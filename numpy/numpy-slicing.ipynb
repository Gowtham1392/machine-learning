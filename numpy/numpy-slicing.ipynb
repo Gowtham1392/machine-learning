{
 "cells": [
  {
   "cell_type": "code",
   "execution_count": 13,
   "metadata": {},
   "outputs": [
    {
     "name": "stdout",
     "output_type": "stream",
     "text": [
      "[2 3 4 5]\n",
      "[8 9]\n",
      "[1 2 3 4 5 6 7 8]\n",
      "[6 7 8]\n",
      "[9]\n",
      "[3 5 7]\n",
      "[1 4 7]\n"
     ]
    }
   ],
   "source": [
    "import numpy as np\n",
    "\n",
    "np1 = np.array([1,2,3,4,5,6,7,8,9])\n",
    "\n",
    "print(np1[1:5])\n",
    "print(np1[7:])\n",
    "print(np1[:8])\n",
    "print(np1[-4:-1])\n",
    "print(np1[-1:])\n",
    "print(np1[2:7:2])\n",
    "print(np1[::3])"
   ]
  },
  {
   "cell_type": "code",
   "execution_count": 67,
   "metadata": {
    "scrolled": true
   },
   "outputs": [
    {
     "name": "stdout",
     "output_type": "stream",
     "text": [
      "9\n",
      "[[ 1  2]\n",
      " [ 6  7]\n",
      " [12 13]]\n"
     ]
    }
   ],
   "source": [
    "np2 = np.array([[0,1,2,3,4,5], \n",
    "                [5,6,7,8,9,10],\n",
    "               [11,12,13,14,15,16]])\n",
    "print(np2[1,4])\n",
    "print(np2[0:3,1:3])"
   ]
  },
  {
   "cell_type": "code",
   "execution_count": null,
   "metadata": {},
   "outputs": [],
   "source": []
  },
  {
   "cell_type": "code",
   "execution_count": null,
   "metadata": {},
   "outputs": [],
   "source": []
  }
 ],
 "metadata": {
  "kernelspec": {
   "display_name": "Python 3",
   "language": "python",
   "name": "python3"
  },
  "language_info": {
   "codemirror_mode": {
    "name": "ipython",
    "version": 3
   },
   "file_extension": ".py",
   "mimetype": "text/x-python",
   "name": "python",
   "nbconvert_exporter": "python",
   "pygments_lexer": "ipython3",
   "version": "3.7.0"
  }
 },
 "nbformat": 4,
 "nbformat_minor": 2
}
