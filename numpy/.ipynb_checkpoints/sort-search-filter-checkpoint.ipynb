{
 "cells": [
  {
   "cell_type": "code",
   "execution_count": 1,
   "metadata": {},
   "outputs": [
    {
     "name": "stdout",
     "output_type": "stream",
     "text": [
      "[ 0  1  2  5  7 18]\n"
     ]
    }
   ],
   "source": [
    "import numpy as np\n",
    "\n",
    "a = np.array([2,5,1,7,0,18])\n",
    "\n",
    "print(np.sort(a))"
   ]
  },
  {
   "cell_type": "code",
   "execution_count": 5,
   "metadata": {},
   "outputs": [
    {
     "name": "stdout",
     "output_type": "stream",
     "text": [
      "['Anand' 'Capablanca' 'Fishcher' 'Kasparov' 'Tal']\n"
     ]
    }
   ],
   "source": [
    "names = np.array([\"Fishcher\",\"Tal\", \"Capablanca\",\"Anand\",\"Kasparov\"])\n",
    "print(np.sort(names))"
   ]
  },
  {
   "cell_type": "code",
   "execution_count": 6,
   "metadata": {},
   "outputs": [
    {
     "name": "stdout",
     "output_type": "stream",
     "text": [
      "[False  True  True  True]\n"
     ]
    }
   ],
   "source": [
    "bools = np.array([True,False,True,True])\n",
    "print(np.sort(bools))"
   ]
  },
  {
   "cell_type": "code",
   "execution_count": 7,
   "metadata": {},
   "outputs": [
    {
     "name": "stdout",
     "output_type": "stream",
     "text": [
      "[[[ 1  2  4]\n",
      "  [ 1  7  9]]\n",
      "\n",
      " [[ 0  9 16]\n",
      "  [ 1  8  9]]]\n"
     ]
    }
   ],
   "source": [
    "threed = np.array([[[4,1,2],[7,9,1]],[[16,9,0],[8,9,1]]])\n",
    "print(np.sort(threed))"
   ]
  },
  {
   "cell_type": "code",
   "execution_count": 8,
   "metadata": {},
   "outputs": [
    {
     "name": "stdout",
     "output_type": "stream",
     "text": [
      "(array([0, 1, 1], dtype=int64), array([1, 0, 1], dtype=int64), array([1, 1, 1], dtype=int64))\n"
     ]
    }
   ],
   "source": [
    "print(np.where(threed == 9))"
   ]
  },
  {
   "cell_type": "code",
   "execution_count": 14,
   "metadata": {},
   "outputs": [
    {
     "name": "stdout",
     "output_type": "stream",
     "text": [
      "[ 4  2 16  0  8]\n"
     ]
    }
   ],
   "source": [
    "op = np.where(threed % 2 == 0)\n",
    "print(threed[op])"
   ]
  },
  {
   "cell_type": "code",
   "execution_count": 15,
   "metadata": {},
   "outputs": [
    {
     "name": "stdout",
     "output_type": "stream",
     "text": [
      "[ 7  9 16  9  8  9]\n"
     ]
    }
   ],
   "source": [
    "filtered = threed > 5\n",
    "print(threed[filtered])"
   ]
  },
  {
   "cell_type": "code",
   "execution_count": null,
   "metadata": {},
   "outputs": [],
   "source": []
  }
 ],
 "metadata": {
  "kernelspec": {
   "display_name": "Python 3",
   "language": "python",
   "name": "python3"
  },
  "language_info": {
   "codemirror_mode": {
    "name": "ipython",
    "version": 3
   },
   "file_extension": ".py",
   "mimetype": "text/x-python",
   "name": "python",
   "nbconvert_exporter": "python",
   "pygments_lexer": "ipython3",
   "version": "3.7.0"
  }
 },
 "nbformat": 4,
 "nbformat_minor": 2
}
